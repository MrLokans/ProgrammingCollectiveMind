{
 "cells": [
  {
   "cell_type": "code",
   "execution_count": 3,
   "metadata": {
    "collapsed": false
   },
   "outputs": [],
   "source": [
    "from recomendations import critics\n",
    "\n",
    "persons = list(critics.keys())\n",
    "unique_films = set()\n",
    "for person in persons:\n",
    "    unique_films.update(critics[person])\n"
   ]
  },
  {
   "cell_type": "markdown",
   "metadata": {},
   "source": [
    "# Eucledian distance"
   ]
  },
  {
   "cell_type": "code",
   "execution_count": 4,
   "metadata": {
    "collapsed": false
   },
   "outputs": [
    {
     "name": "stdout",
     "output_type": "stream",
     "text": [
      "0.14814814814814814\n"
     ]
    }
   ],
   "source": [
    "from math import sqrt\n",
    "\n",
    "def sim_distance(prefs, person1, person2):\n",
    "    si = {}\n",
    "    for item in prefs[person1]:\n",
    "        if item in prefs[person2]:\n",
    "            si[item] = 1\n",
    "    if not si:\n",
    "        return 0\n",
    "    sum_of_squares = sum([pow(prefs[person1][item] - prefs[person2][item], 2) for item in prefs[person1] if item in prefs[person2]])\n",
    "    return 1 / (1 + sum_of_squares)\n",
    "print(sim_distance(critics, 'Lisa Rose', 'Gene Seymour'))"
   ]
  },
  {
   "cell_type": "markdown",
   "metadata": {},
   "source": [
    "# Pearson correlation quotient"
   ]
  },
  {
   "cell_type": "markdown",
   "metadata": {},
   "source": [
    "Использование линии наилучшего приближения. Если один критик склонен выставлять более высокие оценки, чем другой, то идеальная корреляция все равно возможна при условии, что разница в оценках постоянна. Метод евклидова расстояния в этом случае выдал бы результат, что критики не похожи, поскольку один всегда оказывается строже другого, несмотря на то что их вкусы, по существу, очень сходны. \n",
    "В зависимости от конкретного приложения такое поведение может вас \n",
    "устраивать или нет.\n",
    "\n",
    "Программа для вычисления коэффициента корреляции Пирсона сначала  находит  фильмы,  оцененные  обоими  критиками,  и  вычисляет \n",
    "сумму  и  сумму  квадратов  выставленных  ими  оценок,  а  также  сумму \n",
    "произведений  оценок.  На  последнем  этапе  найденные  значения  используются для вычисления коэффициента корреляции; этот код выделен в листинге ниже полужирным шрифтом. В отличие от евклидовой метрики, эта формула интуитивно не так очевидна.\n",
    "\n",
    "$$ r_{xy} = \\frac{\\sum_{i=1}^{m}(x_i - \\overline{x})(y_i - \\overline{y})}{\\sqrt{\\sum_{i=1}^{m}(x_i - \\overline{x})^{2}\\sum_{i=1}^{m}(y_i - \\overline{y})^{2}}} $$"
   ]
  },
  {
   "cell_type": "code",
   "execution_count": 26,
   "metadata": {
    "collapsed": false
   },
   "outputs": [
    {
     "name": "stdout",
     "output_type": "stream",
     "text": [
      "0.41176470588235276\n"
     ]
    }
   ],
   "source": [
    "def sim_pearson(prefs, p1, p2):\n",
    "    si = {}\n",
    "    for item in prefs[p1]:\n",
    "        if item in prefs[p2]:\n",
    "            si[item] = 1\n",
    "    n = len(si)\n",
    "    if n == 0:\n",
    "        return 0\n",
    "    # Сумма всех предпочтений\n",
    "    sum1 = sum([prefs[p1][it] for it in si])\n",
    "    sum2 = sum([prefs[p2][it] for it in si])\n",
    "\n",
    "    # Сумма квадратов предпочтений\n",
    "    sum1Sq = sum([pow(prefs[p1][it], 2) for it in si])\n",
    "    sum2Sq = sum([pow(prefs[p2][it], 2) for it in si])\n",
    "\n",
    "    # Сумма произведений общих предпочтений\n",
    "    pSum = sum([prefs[p1][it] * prefs[p2][it] for it in si])\n",
    "\n",
    "\n",
    "    # Вычисление коэфициента Пирсона\n",
    "    num = pSum - (sum1 * sum2 / float(n))\n",
    "    den = sqrt((sum1Sq - pow(sum1, 2) / n) * (sum2Sq - pow(sum2, 2) / n))\n",
    "    if den == 0:\n",
    "        return 0\n",
    "\n",
    "    return float(num) / float(den)\n",
    "\n",
    "print(sim_pearson(critics, 'Mick LaSalle', 'Gene Seymour'))\n"
   ]
  },
  {
   "cell_type": "code",
   "execution_count": 34,
   "metadata": {
    "collapsed": false
   },
   "outputs": [
    {
     "name": "stdout",
     "output_type": "stream",
     "text": [
      "[(0.9912407071619299, 'Lisa Rose'), (0.9244734516419049, 'Mick LaSalle'), (0.8934051474415647, 'Claudia Puig')]\n",
      "[(0.3076923076923077, 'Mick LaSalle'), (0.2857142857142857, 'Michael Phillips'), (0.23529411764705882, 'Claudia Puig')]\n"
     ]
    }
   ],
   "source": [
    "def topMatches(prefs, person, n=5, similarity=sim_pearson):\n",
    "    scores = [(similarity(prefs, person, other), other) for other in prefs if other is not person]\n",
    "    \n",
    "    scores.sort()\n",
    "    scores.reverse()\n",
    "    return scores[0:n]\n",
    "print(topMatches(critics, 'Toby', n=3, similarity=sim_pearson))\n",
    "print(topMatches(critics, 'Toby', n=3, similarity=sim_distance))"
   ]
  },
  {
   "cell_type": "markdown",
   "metadata": {},
   "source": [
    "Методы ранжирования: берем критиков, умножаем его оценку подобия с пользователем на оценку, которую он поставил каждому фильму, выбираем фильмы с максимальными баллами."
   ]
  },
  {
   "cell_type": "code",
   "execution_count": 49,
   "metadata": {
    "collapsed": false
   },
   "outputs": [
    {
     "name": "stdout",
     "output_type": "stream",
     "text": [
      "{'The Night Listener': 12.89975185847269, 'Just My Luck': 8.074754105841562, 'Lady in the Water': 8.383808341404684}\n"
     ]
    },
    {
     "data": {
      "text/plain": [
       "[(3.3477895267131013, 'The Night Listener'),\n",
       " (2.832549918264162, 'Lady in the Water'),\n",
       " (2.530980703765565, 'Just My Luck')]"
      ]
     },
     "execution_count": 49,
     "metadata": {},
     "output_type": "execute_result"
    }
   ],
   "source": [
    "def getRecommendations(prefs, person, sim_func=sim_pearson):\n",
    "    totals = {}\n",
    "    simSums = {}\n",
    "    for other in prefs:\n",
    "        if other == person:\n",
    "            continue\n",
    "        sim = sim_func(prefs, person, other)\n",
    "        if sim <= 0:\n",
    "            continue\n",
    "        for item in prefs[other]:\n",
    "            # оцениваем непросмотренные фильмы\n",
    "            if item not in prefs[person] or prefs[person][item] == 0:\n",
    "                totals.setdefault(item, 0)\n",
    "                totals[item] += prefs[other][item] * sim\n",
    "                \n",
    "                simSums.setdefault(item, 0)\n",
    "                simSums[item] += sim\n",
    "    print(totals)\n",
    "    rankings = [(total / simSums[item], item) for item, total in totals.items()]\n",
    "    rankings.sort()\n",
    "    rankings.reverse()\n",
    "    return rankings\n",
    "\n",
    "getRecommendations(critics, 'Toby')"
   ]
  }
 ],
 "metadata": {
  "kernelspec": {
   "display_name": "Python 3",
   "language": "python",
   "name": "python3"
  },
  "language_info": {
   "codemirror_mode": {
    "name": "ipython",
    "version": 3
   },
   "file_extension": ".py",
   "mimetype": "text/x-python",
   "name": "python",
   "nbconvert_exporter": "python",
   "pygments_lexer": "ipython3",
   "version": "3.4.2"
  }
 },
 "nbformat": 4,
 "nbformat_minor": 0
}
